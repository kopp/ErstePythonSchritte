{
 "cells": [
  {
   "cell_type": "markdown",
   "metadata": {},
   "source": [
    "# Erste Schritte mit Python\n",
    "\n",
    "Dieses Dokument soll auch \"Computer-Analphabeten\" einen ersten Schritt in die Programmierung mit Python erlauben.\n",
    "\n",
    "Es ist interaktiv: Teile mit Text (wie dieser hier) wechseln sich ab mit Code, wie dieser hier:"
   ]
  },
  {
   "cell_type": "code",
   "execution_count": null,
   "metadata": {},
   "outputs": [],
   "source": [
    "print(\"Hallo!\")"
   ]
  },
  {
   "cell_type": "markdown",
   "metadata": {},
   "source": [
    "Was das ganze Interaktiv macht:\n",
    "Diese Einführung verwendet _Jupyter Lab_.\n",
    "Man kann in die Zeile mit dem Code klicken und mit _Shift + Enter_ (_Umschalttaste + Eingabetaste_) den Code, der dort steht, ausführen.\n",
    "Um den Text, der hier steht, zu editieren, kann man einfach doppelt auf ihn klicken, modifizieren und mit _Shift + Enter_ das Editieren beenden.\n",
    "Für Mehr Informationen zu Jupyter Lab siehe [diese Seite](JupyterLab.ipynb)."
   ]
  },
  {
   "cell_type": "markdown",
   "metadata": {},
   "source": [
    "Als ersten kleinen interaktiven Schritt mit Python personalisieren wir die Ausgabe noch.\n",
    "Führe den folgenden Code aus, indem du ihn anklickst und dann _Shift + Enter_ drückst, beende die Eingabe durch _Enter_."
   ]
  },
  {
   "cell_type": "code",
   "execution_count": null,
   "metadata": {},
   "outputs": [],
   "source": [
    "name = input(\"Was ist dein Name?: \")\n",
    "print(\"Hallo, {}\".format(name))"
   ]
  },
  {
   "cell_type": "markdown",
   "metadata": {},
   "source": [
    "Das reicht schon, um mit Python anfangen zu können.\n",
    "\n",
    "Los geht's mit den einzelnen Lektionen:\n",
    "\n",
    "_Weil man in Jupyter Lab, das auf mybinder.org läuft, nichts speichern kann, sind die Lektionen kleinschrittig.  Merke dir einfach, wo du aufgehört hast und mache in der nächsten Lektion weiter._\n",
    "\n",
    "- [Objekte](LektionObjekte.ipynb)\n",
    "- [Container](LektionContainer.ipynb)\n",
    "- [Callables (Funktionen)](LektionCallable.ipynb)\n",
    "- [Fehlerbehandlung](LektionExceptions.ipynb)"
   ]
  },
  {
   "cell_type": "code",
   "execution_count": null,
   "metadata": {},
   "outputs": [],
   "source": []
  }
 ],
 "metadata": {
  "kernelspec": {
   "display_name": "Python 3",
   "language": "python",
   "name": "python3"
  },
  "language_info": {
   "codemirror_mode": {
    "name": "ipython",
    "version": 3
   },
   "file_extension": ".py",
   "mimetype": "text/x-python",
   "name": "python",
   "nbconvert_exporter": "python",
   "pygments_lexer": "ipython3",
   "version": "3.8.0"
  }
 },
 "nbformat": 4,
 "nbformat_minor": 4
}
