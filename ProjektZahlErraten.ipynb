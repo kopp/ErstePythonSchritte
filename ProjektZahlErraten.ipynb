{
 "cells": [
  {
   "cell_type": "markdown",
   "metadata": {},
   "source": [
    "# Projekt Zahl Erraten\n",
    "\n",
    "Das Spiel geht so:\n",
    "- Dein Programm überlegt sich eine Zahl und hält diese geheim.\n",
    "- Der Spieler rät eine Zahl.\n",
    "- Dein Programm vergleicht die geratene und die geheime Zahl und gibt als Tips:\n",
    "    - gesuchte Zahl ist größer\n",
    "    - gesuchte Zahl ist kleiner\n",
    "    - gesuchte Zahl ist gefunden\n",
    "\n",
    "Das Spiel könnte dann so ablaufen:\n",
    "\n",
    "```\n",
    "Ich habe mir eine Zufallszahl zwischen 0 und 20 überlegt.  Versuche sie mit 20 Versuchen zu erraten!\n",
    "Versuch 1: 3\n",
    "Die Zahl ist größer als 3\n",
    "Versuch 2: 17\n",
    "Die Zahl ist kleiner als 17\n",
    "Versuch 3: 8\n",
    "Die Zahl ist kleiner als 8\n",
    "Versuch 4: 4\n",
    "Die Zahl ist größer als 4\n",
    "Versuch 5: 5\n",
    "Die Zahl ist größer als 5\n",
    "Versuch 6: 7\n",
    "Die Zahl ist kleiner als 7\n",
    "Versuch 7: 6\n",
    "Sehr gut!  Das war korrekt\n",
    "```\n",
    "\n",
    "Um das Projekt zu bearbeiten, solltest du in Schleifen und Bedingten Anweisungen fit sein.\n",
    "\n",
    "Um eine Zufallszahl zwischen `a` und `b` zu erzeugen, kannst du die Funktion `randint(a, b)` aus dem Paket `random` verwenden; bspw.:"
   ]
  },
  {
   "cell_type": "code",
   "execution_count": 1,
   "metadata": {},
   "outputs": [
    {
     "data": {
      "text/plain": [
       "8"
      ]
     },
     "execution_count": 1,
     "metadata": {},
     "output_type": "execute_result"
    }
   ],
   "source": [
    "import random\n",
    "random.randint(5, 30)"
   ]
  },
  {
   "cell_type": "markdown",
   "metadata": {},
   "source": [
    "Versuche dich zuerst auf das nötigste zu konzentrieren.\n",
    "Wenn du das geschafft hast, dann kannst du\n",
    "\n",
    "- dich darum kümmern, was passiert, wenn der Nutzer\n",
    "    - keine Zahl sondern bspw. Buchstaben eintippt\n",
    "    - Zahlen außerhalb des Bereichs eintippt, in der die Lösung liegen kann\n",
    "- ein Spiel reproduzierbar machen, indem ein bestimmter\n",
    "  [Seed](https://docs.python.org/3/library/random.html#random.seed)\n",
    "  verwendet wird\n",
    "- Einen Algorithmus für den _Spieler_ überlegen -- also ein Programm schreiben, das versucht, die Zahl zu erraten.\n",
    "- Die Parameter (maximale, minimale Zahl, Anzahl erlaubter Versuche) von der\n",
    "  [Kommandozeile eingelesen](https://docs.python.org/3/library/argparse.html)\n",
    "  werden."
   ]
  },
  {
   "cell_type": "code",
   "execution_count": null,
   "metadata": {},
   "outputs": [],
   "source": []
  }
 ],
 "metadata": {
  "kernelspec": {
   "display_name": "Python 3",
   "language": "python",
   "name": "python3"
  },
  "language_info": {
   "codemirror_mode": {
    "name": "ipython",
    "version": 3
   },
   "file_extension": ".py",
   "mimetype": "text/x-python",
   "name": "python",
   "nbconvert_exporter": "python",
   "pygments_lexer": "ipython3",
   "version": "3.8.0"
  }
 },
 "nbformat": 4,
 "nbformat_minor": 4
}
