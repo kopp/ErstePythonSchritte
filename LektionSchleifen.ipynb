{
 "cells": [
  {
   "cell_type": "markdown",
   "metadata": {},
   "source": [
    "# Lektion Schleifen\n",
    "\n",
    "Um etwas wiederholt auszuführen, verwendet man _Schleifen_, engl. _Loop_."
   ]
  },
  {
   "cell_type": "markdown",
   "metadata": {},
   "source": [
    "# for-Loop\n",
    "\n",
    "Damit kann man über die Elemente in einer Collection iterieren, also bestimmten Code für alle Elemente in einer Collection ausführen.\n",
    "In Python schreibt man das per\n",
    "\n",
    "```python\n",
    "for name in collection:\n",
    "    code\n",
    "```\n",
    "\n",
    "wobei man innerhalb des `code` auf `name` zugreifen kann.\n",
    "Man spricht hier davon, dass man _über die Elemente der Collection iteriert_.\n",
    "\n",
    "Beispielsweise kann das so aussehen:"
   ]
  },
  {
   "cell_type": "code",
   "execution_count": null,
   "metadata": {},
   "outputs": [],
   "source": [
    "enkel_von_donald = [\"Tick\", \"Trick\", \"Track\"]\n",
    "for enkel in enkel_von_donald:\n",
    "    print(\"Donald hat einen Enkel mit Namen \" + enkel)"
   ]
  },
  {
   "cell_type": "markdown",
   "metadata": {},
   "source": [
    "Auch hier sehen wir wieder: Der Code, der wiederholt werden soll, ist eingerückt.\n",
    "\n",
    "Iteriert man über eine Liste, dann bekommt man in der Loop-Variable logischerweise die einzelnen Elemente der Liste.\n",
    "\n",
    "Iteriert man über ein Dictionary, dann bekommt man die Keys gegeben:"
   ]
  },
  {
   "cell_type": "code",
   "execution_count": null,
   "metadata": {},
   "outputs": [],
   "source": [
    "lieblingsfarben = {\n",
    "    \"Tobi\": \"rot\",\n",
    "    \"Sarah\": \"braun\",\n",
    "    \"Konrad\": \"gold\"\n",
    "}\n",
    "for name in lieblingsfarben:\n",
    "    print(name + \" hat als lieblingsfarbe \" + lieblingsfarben[name])"
   ]
  },
  {
   "cell_type": "markdown",
   "metadata": {},
   "source": [
    "Weil man beim Iterieren über ein Dictionary oft sowohl Key als auch Value verwenden will, kann man das auch so schreiben:"
   ]
  },
  {
   "cell_type": "code",
   "execution_count": null,
   "metadata": {},
   "outputs": [],
   "source": [
    "for name, farbe in lieblingsfarben.items():\n",
    "    print(name + \" hat als lieblingsfarbe \" + farbe)"
   ]
  },
  {
   "cell_type": "markdown",
   "metadata": {},
   "source": [
    "Will man Code eine _Anzahl_ von Wiederholungen ausführen, dann kann man dazu `range()` verwenden, was einem eine Serie von Zahlen generiert:"
   ]
  },
  {
   "cell_type": "code",
   "execution_count": null,
   "metadata": {},
   "outputs": [],
   "source": [
    "for i in range(5):\n",
    "    print(i)"
   ]
  },
  {
   "cell_type": "markdown",
   "metadata": {},
   "source": [
    "# While-Loop\n",
    "\n",
    "Anstatt über eine Collection zu iterieren, kann man Code auch so lange ausführen, bis eine bestimmte _Bedingung_ eintritt.\n",
    "Dazu verwendet man einen while-Loop.\n",
    "\n",
    "Dieser hat die Form\n",
    "\n",
    "```python\n",
    "while bedingung:\n",
    "    code\n",
    "```\n",
    "\n",
    "Beispielsweise könnte man solange nachfragen, wie man Python findet, bis die richtige Antwort, `super`, gegeben wird:"
   ]
  },
  {
   "cell_type": "code",
   "execution_count": null,
   "metadata": {},
   "outputs": [],
   "source": [
    "eingabe = \"X\"\n",
    "while eingabe != \"super\":\n",
    "    eingabe = input(\"Wie findest du python? \")\n",
    "print(\"Korrekt -- python ist \" + eingabe)"
   ]
  },
  {
   "cell_type": "markdown",
   "metadata": {},
   "source": [
    "Ein beliebter Trick ist dabei, `while True:` zu schreiben -- die Schleife läuft dann ewig (oder bis man ein `break` verwendet, siehe unten).\n",
    "\n",
    "Das folgene Programm lässt sich bspw. nur beenden, wenn man in Jupyter auf das Stop-Symbol klickt (oder in der Konsole die Tastenkombination Strg+C drückt):"
   ]
  },
  {
   "cell_type": "code",
   "execution_count": null,
   "metadata": {},
   "outputs": [],
   "source": [
    "import time\n",
    "while True:\n",
    "    print(\"Python ist super\")\n",
    "    time.sleep(1)"
   ]
  },
  {
   "cell_type": "markdown",
   "metadata": {},
   "source": [
    "# Schleife beenden oder überspringen\n",
    "\n",
    "Um eine Schleife zu beenden kann man `break` verwenden, wenn man direkt weiter zum nächsten Duchlauf sringen will, kann man `continue` verwenden.\n",
    "\n",
    "`break` verwendet man typischerweise, wenn man einen bestimmten Wert gefunden hat bzw. eine Berechnung abgeschlossen ist.\n",
    "Das folgene Beispiel modelliert einen Einkäufer, der sich strikt an seine Einkaufsliste hält und so lange Dinge einkauft, wie er noch Geld hat:"
   ]
  },
  {
   "cell_type": "code",
   "execution_count": null,
   "metadata": {},
   "outputs": [],
   "source": [
    "preise_fuer_lebensmittel = {\n",
    "    \"Mehl\": 4,\n",
    "    \"Zucker\": 3,\n",
    "    \"Salz\": 1,\n",
    "    \"Dosenwurst\": 10,\n",
    "    \"Nudeln\": 7,\n",
    "}\n",
    "geld_vorhanden = 10\n",
    "\n",
    "einkaufsliste = [\"Mehl\", \"Zucker\", \"Nudeln\", \"Salz\", \"Dosenwurst\"]\n",
    "einkaufswagen = []\n",
    "\n",
    "for lebensmittel in einkaufsliste:\n",
    "    preis = preise_fuer_lebensmittel[lebensmittel]\n",
    "    if preis > geld_vorhanden:\n",
    "        break\n",
    "    else:\n",
    "        einkaufswagen.append(lebensmittel)\n",
    "        geld_vorhanden = geld_vorhanden - preis\n",
    "\n",
    "print(\"Heute haben wir eingekauft: \", einkaufswagen)\n",
    "print(\"Es ist noch an Geld übrig: \", geld_vorhanden)"
   ]
  },
  {
   "cell_type": "markdown",
   "metadata": {},
   "source": [
    "Hier wird, sobald das nächste Produkt zu teuer ist, die Schleife beendet, also der Einkauf beendet.\n",
    "\n",
    "Versuche, den Code zu verstehen und ersetze dann das `break` durch ein `continue`.\n",
    "Jetzt wird der Einkäufer, wenn er kein Geld mehr für ein Produkt hat, probieren, das nächste Produkt auf seiner Liste zu kaufen."
   ]
  },
  {
   "cell_type": "markdown",
   "metadata": {},
   "source": [
    "--------------\n",
    "\n",
    "# Übungen\n",
    "\n",
    "\n",
    "1. Gegeben ist eine Liste von Zahlen.\n",
    "   Summiere die Zahlen in einer Schleife auf.\n",
    "   Gib dann das Ergebnis aus.\n",
    "2. Brich die Rechnung aus der vorhergegangenen Übung ab, sobald die Summe den Wert `maximum` erreicht oder überschreitet.\n"
   ]
  },
  {
   "cell_type": "code",
   "execution_count": null,
   "metadata": {},
   "outputs": [],
   "source": [
    "# Hier kannst du die Übung machen\n",
    "\n",
    "zahlen = [1, 3, 5, 7, 12, 19]\n",
    "maximum = 15\n",
    "summe = 0\n",
    "\n",
    "for z in zahlen:\n",
    "    summe += z\n",
    "    if summe >= maximum:\n",
    "        break\n",
    "\n",
    "print(\"Summe: \", summe)"
   ]
  },
  {
   "cell_type": "code",
   "execution_count": null,
   "metadata": {},
   "outputs": [],
   "source": [
    "# Lösung\n",
    "\n",
    "message = b'MS4gVW0gYWxsZSBaYWhsZW4gYXVmenVzdW1taWVyZW4sIGthbm4gbWFuCgpgYGBweXRob24KemFobGVuID0gWzEsIDMsIDUsIDcsIDEyLCAxOV0KbWF4aW11bSA9IDE1CnN1bW1lID0gMAoKZm9yIHogaW4gemFobGVuOgogICAgc3VtbWUgKz0gegoKcHJpbnQoIlN1bW1lOiAiLCBzdW1tZSkKYGBgCnZlcndlbmRlbi4KYCs9YCBpc3QgZWluZSBBYmvDvHJ6dW5nOiBgYSArPSBiYCBiZWRldXRldCBkYXMgZ2xlaWNoZSB3aWUgYGEgPSBhICsgYmAuCgpJbiBkZXIgQXVmZ2FiZSB3YXIgZXhwbGl6aXQgZ2Vmb3JkZXJ0LCBlaW5lIFNjaGxlaWZlIHp1IHByb2dyYW1taWVyZW4uCkJlaW0gImVjaHRlbiIgUHJvZ3JhbW1pZXJlbiB3w7xyZGUgbWFuIHNvIGV0d2FzIChob2ZmZW50bGljaCkgbmljaHQgbWFjaGVuLCB3ZWlsIGVzIGVpbmUgRnVua3Rpb24gZ2lidCwgZGllIGRhcyBmw7xyIHVucyBlaW5mYWNoZXIgbWFjaHQ6CgpgYGBweXRob24Kc3VtKHphaGxlbikKYGBgCgoyLiBVbSBkaWUgU3VtbWUgbnVyIGJpcyB6dSBlaW5lbSBNYXhpbXVtIHp1IGJpbGRlbiwga2FubiBtYW4KCmBgYHB5dGhvbgp6YWhsZW4gPSBbMSwgMywgNSwgNywgMTIsIDE5XQptYXhpbXVtID0gMTUKc3VtbWUgPSAwCgpmb3IgeiBpbiB6YWhsZW46CiAgICBzdW1tZSArPSB6CiAgICBpZiBzdW1tZSA+PSBtYXhpbXVtOgogICAgICAgIGJyZWFrCgpwcmludCgiU3VtbWU6ICIsIHN1bW1lKQpgYGAKdmVyd2VuZGVuLgpEYXMgaXN0IG5pY2h0IG1laHIgc28gZWluZmFjaCBtaXQgYHN1bSgpYCBhdXN6dXJlY2huZW4uLi4='\n",
    "\n",
    "import base64\n",
    "from IPython.display import display, Markdown\n",
    "decoded = base64.b64decode(message).decode(\"utf-8\")\n",
    "display(Markdown(decoded))"
   ]
  },
  {
   "cell_type": "markdown",
   "metadata": {},
   "source": [
    "3. Frage den Nutzer nach einer Zahl, `n`, und gib ihm dann die Summe aller Zahlen von 1 bis `n` aus."
   ]
  },
  {
   "cell_type": "code",
   "execution_count": null,
   "metadata": {},
   "outputs": [],
   "source": [
    "# Hier kannst du die Übung machen\n",
    "\n",
    "n = int(input(\"Maximale Zahl n: \"))\n"
   ]
  },
  {
   "cell_type": "code",
   "execution_count": null,
   "metadata": {},
   "outputs": [],
   "source": [
    "# Lösung\n",
    "\n",
    "message = b'RWluZSBMw7ZzdW5nIG1pdCBTY2hsZWlmZSBzw6RoZSBzbyBhdXM6CgpgYGBweXRob24KbiA9IGludChpbnB1dCgiTWF4aW1hbGUgWmFobCBuOiAiKSkKc3VtbWUgPSAwCmZvciBpIGluIHJhbmdlKG4gKyAxKToKICAgIHN1bW1lICs9IGkKcHJpbnQoc3VtbWUpCmBgYAoKSGllciBpc3Qgd2ljaHRpZywgZGFzcyBgcmFuZ2UobilgIG51ciBkaWUgWmFobGVuIGAwLCAxLCAuLi4sIG4tMWAgYXVmc3VtbWllcnQgaMOkdHRlLgpEYW1pdCBkYXMgYG5gIGF1Y2ggaW4gZGVyIFN1bW1lIGF1ZnRhdWNodCwgbXVzcyBtYW4gZGVzaGFsYiBkaWUgYHJhbmdlYCBiaXMgYG4rMWAgcmVjaG5lbi4KCk9obmUgU2NobGVpZmUgaMOkdHRlIG1hbiBkaWUgU3VtbWUgYXVjaCBlaW5mYWNoIGJlcmVjaG5lbiBrw7ZubmVuIG1pdCBgc3VtYAoKYGBgcHl0aG9uCnN1bW1lID0gc3VtKHJhbmdlKG4gKyAxKSkKYGBgCgpXZXIgc2ljaCBpbiBNYXRoZSBldHdhcyBhdXNrZW5udCwgd2Vpw58gYWJlciwgZGFzcyBlcyBoaWVyZsO8ciBhdWNoIGRpZQpbR2F1w58nc2NoZSBTdW1tZW5mb3JtZWxdKGh0dHBzOi8vZGUud2lraXBlZGlhLm9yZy93aWtpL0dhdSVDMyU5RnNjaGVfU3VtbWVuZm9ybWVsKQpnaWJ0OgoKYGBgcHl0aG9uCnN1bW1lID0gbiAqIChuKzEpIC8gMgpgYGA='\n",
    "\n",
    "import base64\n",
    "from IPython.display import display, Markdown\n",
    "decoded = base64.b64decode(message).decode(\"utf-8\")\n",
    "display(Markdown(decoded))"
   ]
  },
  {
   "cell_type": "code",
   "execution_count": null,
   "metadata": {},
   "outputs": [],
   "source": []
  }
 ],
 "metadata": {
  "kernelspec": {
   "display_name": "Python 3",
   "language": "python",
   "name": "python3"
  },
  "language_info": {
   "codemirror_mode": {
    "name": "ipython",
    "version": 3
   },
   "file_extension": ".py",
   "mimetype": "text/x-python",
   "name": "python",
   "nbconvert_exporter": "python",
   "pygments_lexer": "ipython3",
   "version": "3.8.0"
  }
 },
 "nbformat": 4,
 "nbformat_minor": 4
}
