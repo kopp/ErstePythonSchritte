{
 "cells": [
  {
   "cell_type": "markdown",
   "metadata": {},
   "source": [
    "# Lektion Bedingte Anweisungen\n",
    "\n",
    "In Programmen muss man ständig Dinge überprüfen -- bspw. ob ein eingegebener Wert richtig ist oder ob ein Wert größer als ein andere ist.\n",
    "Das kann man mit einem _If-Statement_ der Form\n",
    "\n",
    "```python\n",
    "if bedingung:\n",
    "    code1\n",
    "elif andere_bedingung:\n",
    "    code2\n",
    "else:\n",
    "    code3\n",
    "```\n",
    "\n",
    "- Ist die Bedingung wahr, dann wird `code1` ausgeführt.\n",
    "- Ist sie falsch, dann wird zuerst die `andere_bedingung` überprüft.\n",
    "  Ist diese korrekt, dann wird `code2` ausgeführt.\n",
    "- Ist diese auch nicht korrekt, dann wird `code3` ausgeführt.\n",
    "\n",
    "Man kann dabei beliebig viele `elif`-Blöcke verwenden (also auch keinen) und das `else` ist optional (also eines oder keines).\n",
    "\n",
    "Als Bedingung kann man verwenden\n",
    "\n",
    "- Vergleiche Zahlen (also kleiner `<`, größer `>`, kleiner oder gleich `<=`, größer oder gleich `>=`, gleich `==` oder ungleich `!=`)\n"
   ]
  },
  {
   "cell_type": "code",
   "execution_count": null,
   "metadata": {},
   "outputs": [],
   "source": [
    "a = 1\n",
    "b = 2\n",
    "c = 1\n",
    "if a == b:\n",
    "    print(\"a == b\")\n",
    "elif b < c:\n",
    "    print(\"b < c\")\n",
    "elif a == c:\n",
    "    print(\"a == c\")\n",
    "else:\n",
    "    print(\"nichts davon\")"
   ]
  },
  {
   "cell_type": "markdown",
   "metadata": {},
   "source": [
    "- Prüfe, ob etwas in einer Collection ist mit `in` (bspw. `1 in [1,2,3]`)"
   ]
  },
  {
   "cell_type": "code",
   "execution_count": null,
   "metadata": {},
   "outputs": [],
   "source": [
    "enkel = [\"Tick\", \"Trick\", \"Track\"]\n",
    "alle_besucher = [\"Tick\", \"Daisy\", \"Goofy\", \"Track\", \"Donald\"]\n",
    "\n",
    "for besucher in alle_besucher:\n",
    "    if besucher in enkel:\n",
    "        print(\"{} ist ein Enkel!\".format(besucher))\n",
    "    else:\n",
    "        print(\"{} ist KEIN Enkel!\".format(besucher))"
   ]
  },
  {
   "cell_type": "markdown",
   "metadata": {},
   "source": [
    "- Einfach eine Variable -- Python interpretiert dabei manches als Wahr oder Falsch und versucht dabei intuitiv zu sein:"
   ]
  },
  {
   "cell_type": "code",
   "execution_count": null,
   "metadata": {},
   "outputs": [],
   "source": [
    "if 0:\n",
    "    print(\"0 ist wahr\")\n",
    "else:\n",
    "    print(\"0 ist falsch\")"
   ]
  },
  {
   "cell_type": "code",
   "execution_count": null,
   "metadata": {},
   "outputs": [],
   "source": [
    "if []:\n",
    "    print(\"Leere Liste ist wahr\")\n",
    "else:\n",
    "    print(\"Leere liste ist falsch\")"
   ]
  },
  {
   "cell_type": "code",
   "execution_count": null,
   "metadata": {},
   "outputs": [],
   "source": [
    "if [0]:\n",
    "    print(\"Liste mit 0 ist wahr\")\n",
    "else:\n",
    "    print(\"Liste mit 0 ist falsch\")"
   ]
  },
  {
   "cell_type": "markdown",
   "metadata": {},
   "source": [
    "- Kombinationen von Bedingungen -- hast du zwei Bedingungen, `a` und `b`, dann kannst du prüfen, ob\n",
    "    - beide wahr sind mit `a and b`\n",
    "    - mindestens eine von beiden wahr ist mit `a or b`\n",
    "    - `a` nicht wahr ist `not a`"
   ]
  },
  {
   "cell_type": "code",
   "execution_count": null,
   "metadata": {},
   "outputs": [],
   "source": [
    "if a < 2 and a in [1,2,3]:\n",
    "    print(\"a = 1\")"
   ]
  },
  {
   "cell_type": "markdown",
   "metadata": {},
   "source": [
    "-----------\n",
    "\n",
    "# Übung\n",
    "\n",
    "Gegeben ist eine Liste von Zahlen.\n",
    "\n",
    "1. Gib alle davon aus, die durch 3 Teilbar sind.\n",
    "1. Gib alle davon aus, die durch 3 oder durch 5 teilbar sind.\n",
    "1. Gib alle davon aus, die durch 3 und durch 5 teilbar sind.\n",
    "1. Gib alle davon aus, die durch 3 aber nicht durch 5 teilbar sind.\n",
    "1. Gib alle davon aus, die durch 3 teilbar sind und von denen das doppelte auch in der Liste der Zahlen enthalten ist.\n",
    "\n",
    "Hinweis:\n",
    "Teilbarkeit testet man mit dem Modulo-Operator `%`.\n",
    "Du kannst in folgendem Code verschiedene Zahlen/Divisoren einsetzen, um das zu überprüfen:"
   ]
  },
  {
   "cell_type": "code",
   "execution_count": null,
   "metadata": {},
   "outputs": [],
   "source": [
    "zahl = 15\n",
    "divisor = 5\n",
    "\n",
    "if zahl % divisor == 0:\n",
    "    print(\"{} ist durch {} teilbar\".format(zahl, divisor))\n",
    "else:\n",
    "    print(\"{} ist nicht durch {} teilbar\".format(zahl, divisior))"
   ]
  },
  {
   "cell_type": "code",
   "execution_count": null,
   "metadata": {},
   "outputs": [],
   "source": [
    "# Hier kannst du die Übung machen\n",
    "\n",
    "zahlen = [1, 2, 3, 5, 6, 8, 9, 12, 15, 18, 23, 24, 25, 27, 30, 33, 35, 37, 39, 40, 41, 45, ]\n",
    "\n",
    "print(\"Teilbar durch 3\")\n",
    "for zahl in zahlen:\n",
    "    if zahl % 3 == 0:\n",
    "        print(zahl)\n",
    "\n",
    "print(\"Teilbar durch 3 ODER 5\")\n",
    "for zahl in zahlen:\n",
    "    if zahl % 3 == 0 or zahl % 5 == 0:\n",
    "        print(zahl)\n",
    "\n",
    "print(\"Teilbar durch 3 UND 5\")\n",
    "for zahl in zahlen:\n",
    "    if zahl % 3 == 0 and zahl % 5 == 0:\n",
    "        print(zahl)\n",
    "        \n",
    "print(\"Teilbar durch 3 UND NICHT 5\")\n",
    "for zahl in zahlen:\n",
    "    if zahl % 3 == 0 and not zahl % 5 == 0:  # alternativ: if zahl % 3 == 0 and zahl % 5 != 0:\n",
    "        print(zahl)\n",
    "\n",
    "print(\"Teilbar durch 3 UND doppeltes in Liste\")\n",
    "for zahl in zahlen:\n",
    "    if zahl % 3 == 0 and 2 * zahl in zahlen:\n",
    "        print(zahl)\n"
   ]
  },
  {
   "cell_type": "code",
   "execution_count": null,
   "metadata": {},
   "outputs": [],
   "source": [
    "# Lösung\n",
    "\n",
    "message = b'YGBgcHl0aG9uCnphaGxlbiA9IFsxLCAyLCAzLCA1LCA2LCA4LCA5LCAxMiwgMTUsIDE4LCAyMywgMjQsIDI1LCAyNywgMzAsIDMzLCAzNSwgMzcsIDM5LCA0MCwgNDEsIDQ1LCBdCgpwcmludCgiVGVpbGJhciBkdXJjaCAzIikKZm9yIHphaGwgaW4gemFobGVuOgogICAgaWYgemFobCAlIDMgPT0gMDoKICAgICAgICBwcmludCh6YWhsKQoKcHJpbnQoIlRlaWxiYXIgZHVyY2ggMyBPREVSIDUiKQpmb3IgemFobCBpbiB6YWhsZW46CiAgICBpZiB6YWhsICUgMyA9PSAwIG9yIHphaGwgJSA1ID09IDA6CiAgICAgICAgcHJpbnQoemFobCkKCnByaW50KCJUZWlsYmFyIGR1cmNoIDMgVU5EIDUiKQpmb3IgemFobCBpbiB6YWhsZW46CiAgICBpZiB6YWhsICUgMyA9PSAwIGFuZCB6YWhsICUgNSA9PSAwOgogICAgICAgIHByaW50KHphaGwpCiAgICAgICAgCnByaW50KCJUZWlsYmFyIGR1cmNoIDMgVU5EIE5JQ0hUIDUiKQpmb3IgemFobCBpbiB6YWhsZW46CiAgICBpZiB6YWhsICUgMyA9PSAwIGFuZCBub3QgemFobCAlIDUgPT0gMDogICMgYWx0ZXJuYXRpdjogaWYgemFobCAlIDMgPT0gMCBhbmQgemFobCAlIDUgIT0gMDoKICAgICAgICBwcmludCh6YWhsKQoKcHJpbnQoIlRlaWxiYXIgZHVyY2ggMyBVTkQgZG9wcGVsdGVzIGluIExpc3RlIikKZm9yIHphaGwgaW4gemFobGVuOgogICAgaWYgemFobCAlIDMgPT0gMCBhbmQgMiAqIHphaGwgaW4gemFobGVuOgogICAgICAgIHByaW50KHphaGwpCgpgYGA='\n",
    "\n",
    "import base64\n",
    "from IPython.display import display, Markdown\n",
    "decoded = base64.b64decode(message).decode(\"utf-8\")\n",
    "display(Markdown(decoded))"
   ]
  },
  {
   "cell_type": "code",
   "execution_count": null,
   "metadata": {},
   "outputs": [],
   "source": []
  }
 ],
 "metadata": {
  "kernelspec": {
   "display_name": "Python 3",
   "language": "python",
   "name": "python3"
  },
  "language_info": {
   "codemirror_mode": {
    "name": "ipython",
    "version": 3
   },
   "file_extension": ".py",
   "mimetype": "text/x-python",
   "name": "python",
   "nbconvert_exporter": "python",
   "pygments_lexer": "ipython3",
   "version": "3.8.0"
  }
 },
 "nbformat": 4,
 "nbformat_minor": 4
}
