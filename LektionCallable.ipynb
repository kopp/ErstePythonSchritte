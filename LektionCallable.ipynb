{
 "cells": [
  {
   "cell_type": "markdown",
   "metadata": {},
   "source": [
    "# Callable  (NOCH NICHT ABGESCHLOSSEN!)\n",
    "\n",
    "Eine bestimmte Kategorie von Objekten sind die sogenannten _Callable_-Objekte.\n",
    "\n",
    "Sie sind mit `()`-Notation aufrufbar:\n",
    "\n",
    "    output1, output2, ... = callable_name(input1, input2, ...)\n",
    "\n",
    "Beispielsweise (diese Callable sind in Python \"eingebaut\"):"
   ]
  },
  {
   "cell_type": "code",
   "execution_count": null,
   "metadata": {},
   "outputs": [],
   "source": [
    "print(\"foo\")                    # kein Output, nur Input\n",
    "\n",
    "zahlen = [5, 8, 123]\n",
    "groesste_zahl = max(zahlen)     # ein Output, ein Input\n",
    "print(groesste_zahl)\n",
    "\n",
    "leere_liste = list()            # ein Output, kein Input\n",
    "print(leere_liste)"
   ]
  },
  {
   "cell_type": "markdown",
   "metadata": {},
   "source": [
    "# Funktionen\n",
    "\n",
    "Die wichtigste Gruppe von Callables sind die _Funktionen_.\n",
    "\n",
    "Man kann leicht eine eigene Funktion definieren.\n",
    "Dazu schreibt man `def`, gefolgt vom Namen der Funktion (wieder nur mit Buchstaben, Zahlen und Unterstrichen) gefolgt von den Namen der Inputs für die Funktion in Klammer und schließlich einem `:`.\n",
    "Danach folgt eingerückt der Inhalt der Funktion.\n",
    "Er gibt an, was die Funktion eigentlich machen soll, wenn sie aufgerufen wird.\n",
    "Damit die Funktion ein Ergebnis zurückgibt, schreibt man dieses Ergebnis hinter ein `return`.\n",
    "\n",
    "Die folgende Funktion berechnet beispielsweise den [BMI](https://de.wikipedia.org/wiki/Body-Mass-Index):"
   ]
  },
  {
   "cell_type": "code",
   "execution_count": null,
   "metadata": {},
   "outputs": [],
   "source": [
    "def bmi_berechnen(masse_in_kg, groesse_in_m):\n",
    "    bmi = masse_in_kg / groesse_in_m**2\n",
    "    return bmi"
   ]
  },
  {
   "cell_type": "markdown",
   "metadata": {},
   "source": [
    "Du kannst diese Funktion gleich hier ausprobieren.\n",
    "Rufe sie dafür hinter dem `=` mit passenden Parametern auf."
   ]
  },
  {
   "cell_type": "code",
   "execution_count": null,
   "metadata": {},
   "outputs": [],
   "source": [
    "# Berechne hier deinen BMI:\n",
    "mein_bmi =\n",
    "print(mein_bmi)"
   ]
  },
  {
   "cell_type": "code",
   "execution_count": null,
   "metadata": {},
   "outputs": [],
   "source": [
    "# Lösung\n",
    "import base64\n",
    "from IPython.display import display, Markdown\n",
    "message = b'QmVpc3BpZWw6IGBtZWluX2JtaSA9IGJtaV9iZXJlY2huZW4oNjUsIDEuODUpYCBmw7xyIGVpbmVuIDY1a2cgc2Nod2VyZW4gdW5kIDE4MGNtIGdyb8OfZW4gTWVuc2NoZW4u'\n",
    "decoded = base64.b64decode(message).decode(\"utf-8\")\n",
    "display(Markdown(decoded))"
   ]
  },
  {
   "cell_type": "markdown",
   "metadata": {},
   "source": [
    "Probiere aus, was passiert, wenn die Einrückung nicht so gemacht ist wie im Beispiel oben, sondern bspw. mit verschieden vielen Leerzeichen oder ganz ohne Einrückung.\n"
   ]
  },
  {
   "cell_type": "markdown",
   "metadata": {},
   "source": [
    "--------\n",
    "\n",
    "### Für die Wissbegierigen\n",
    "\n",
    "Der `()`-Aufruf wird in Python durch die Magische Methode `__call__` umgesetzt:\n"
   ]
  },
  {
   "cell_type": "code",
   "execution_count": null,
   "metadata": {},
   "outputs": [],
   "source": [
    "print(\"Hallo (direkt)\")\n",
    "print.__call__(\"Hallo (durch __call__)\")"
   ]
  },
  {
   "cell_type": "markdown",
   "metadata": {},
   "source": [
    "So wie wir Namen für Objekte vergeben, vergeben wir auch Namen für Funktionen.\n",
    "Und so wie wir Objekten mehrere Namen geben können, können wir das auch für Funktionen machen:"
   ]
  },
  {
   "cell_type": "code",
   "execution_count": null,
   "metadata": {},
   "outputs": [],
   "source": [
    "ausgeben = print\n",
    "ausgeben(\"hallo\")"
   ]
  },
  {
   "cell_type": "markdown",
   "metadata": {},
   "source": [
    "Das liegt daran, dass auch Funktionen in Python Objekte sind."
   ]
  },
  {
   "cell_type": "markdown",
   "metadata": {},
   "source": [
    "----------\n",
    "\n",
    "### Übung\n",
    "\n",
    "1. `print()` hat keinen Output.  Was für ein Typ kommt heraus, wenn man trotzdem einen `output = ` vor einen `print`-Aufruf stellt?"
   ]
  },
  {
   "cell_type": "code",
   "execution_count": null,
   "metadata": {},
   "outputs": [],
   "source": [
    "# hier kannst du die Übung machen\n",
    "output = print(\"hallo\")\n",
    "print(output)\n",
    "print(type(output))"
   ]
  },
  {
   "cell_type": "code",
   "execution_count": null,
   "metadata": {},
   "outputs": [],
   "source": [
    "# Lösung\n",
    "\n",
    "message = b'RGVyIEF1ZnJ1ZiBrw7ZubnRlIHNvIGF1c3NlaGVuOgpgYGAKb3V0cHV0ID0gcHJpbnQoImhhbGxvIikKcHJpbnQob3V0cHV0KQpwcmludCh0eXBlKG91dHB1dCkpCmBgYApEZXIgT3V0cHV0IGRhdm9uLApgYGAKaGFsbG8KTm9uZQo8Y2xhc3MgJ05vbmVUeXBlJz4KYGBgCnplaWd0LCBkYXNzIGRlciBSw7xja2dhYmV3ZXJ0IGBOb25lYCBpc3QuCkRhcyBpc3QgZWluIFNwZXppZWxsZXIgV2VydCBpbiBQeXRob24sIG1pdCBkZW0gbWFuIGFuemVpZ3QsIGRhc3MgZWluIE5hbWUgZ2VyYWRlIGF1ZiBfbmljaHRzXyB2ZXJ3ZWlzdCwgdW5kIGViZW4gbmljaHQgYXVmIGVpbiBPYmpla3Qu'\n",
    "\n",
    "import base64\n",
    "from IPython.display import display, Markdown\n",
    "decoded = base64.b64decode(message).decode(\"utf-8\")\n",
    "display(Markdown(decoded))"
   ]
  },
  {
   "cell_type": "markdown",
   "metadata": {},
   "source": [
    "2. Schreibe eine Funktion, `addiere_zwei_zahlen`, die Zwei gegebene Zahlen addiert.\n",
    "3. Was passiert, wenn du dieser Funktion keine Zahlen, sondern beispielsweise einen String übergibst?"
   ]
  },
  {
   "cell_type": "code",
   "execution_count": null,
   "metadata": {},
   "outputs": [],
   "source": [
    "# Hier kannst du die Übung machen\n",
    "\n",
    "def ...\n",
    "\n",
    "ergebnis = addiere_zwei_zahlen(5, 12) "
   ]
  },
  {
   "cell_type": "code",
   "execution_count": null,
   "metadata": {},
   "outputs": [],
   "source": [
    "# Lösung\n",
    "\n",
    "message = b'RGVmaW5pdGlvbiBkZXIgRnVua3Rpb246CmBgYHB5dGhvbgpkZWYgYWRkaWVyZV96d2VpX3phaGxlbihhLCBiKToKICAgIHJldHVybiBhICsgYgpgYGAKCkF1ZnJ1ZmVuIG1pdCBlaW5lbSBTdHJpbmcgdW5kIGVpbmVyIFphaGwgYGFkZGllcmVfendlaV96YWhsZW4oIkhhbGxvIiwgMSlgIGdpYnQgZWluZW4gRmVobGVyCmBgYApUeXBlRXJyb3I6IGNhbiBvbmx5IGNvbmNhdGVuYXRlIHN0ciAobm90ICJpbnQiKSB0byBzdHIKYGBgCgp3ZWlsIFB5dGhvbiBuaWNodCB3ZWnDnywgd2llIGVzIGVpbmUgWmFobCB1bmQgZWluZW4gU3RyaW5nIHp1ZWluYW5kZXIgYWRkaWVyZW4gc29sbC4Kw5xiZXJnaWJ0IG1hbiBoaW5nZWdlbiB6d2VpIFN0cmluZ3MgYGFkZGllcmVfendlaV96YWhsZW4oIkhhbGxvIiwgIiBkdSIpYCwgZGFubiBpc3QgZGFzIEVyZ2VibmlzCmBgYAogICAgSGFsbG8gZHUKYGBgCgpGw7xyIHp3ZWkgU3RyaW5ncyBpc3QgYCtgIGRlZmluaWVydCB1bmQgYmVkZXV0ZXQgX2bDvGdlIGRpZSBiZWlkZW4gU3RyaW5ncyB6dXNhbW1lbl8gKERhcyBGYWNod29ydCBoZWnDn3QgIl9jb25jYXRlbmF0aW9uXyIpLg=='\n",
    "\n",
    "import base64\n",
    "from IPython.display import display, Markdown\n",
    "decoded = base64.b64decode(message).decode(\"utf-8\")\n",
    "display(Markdown(decoded))"
   ]
  },
  {
   "cell_type": "markdown",
   "metadata": {},
   "source": [
    "-----------------------"
   ]
  },
  {
   "cell_type": "markdown",
   "metadata": {},
   "source": [
    "# Wozu Funktionen Verwenden?\n",
    "\n",
    "Funktionen verwendet man aus zwei wichtigen Gründen:\n",
    "    \n",
    "1. Man kann damit vermeiden, Code zu kopieren.\n",
    "   Das ist sinnvoll, weil wenn man etwas an dem Code ändern muss, muss man es nur an einer Stelle tun und nicht an vielen.\n",
    "2. Damit wird Code leserlicher.\n",
    "   Anstatt eine Berechnung aufzuschreiben kann man sie in eine Funktion verpacken und ihr einen Namen geben.\n",
    "   Sind die Namen gut genug gewählt, dann kann man den Code lesen wie einen normalen Text und (hofentlich) verstehen, was darin passiert.\n",
    "   Das macht es leichter, sich in den Code einzuarbeiten.\n",
    "   \n",
    "   \n",
    "# TODO Beispiel"
   ]
  },
  {
   "cell_type": "code",
   "execution_count": null,
   "metadata": {},
   "outputs": [],
   "source": []
  },
  {
   "cell_type": "markdown",
   "metadata": {},
   "source": [
    "# Lambdas (Für die Wissbegierigen)\n",
    "\n",
    "Eine weitere Kategorie von Callables sind [_Lambdas_, auch \"_anonyme Funktion_\" genannt](https://de.wikipedia.org/wiki/Anonyme_Funktion).\n",
    "Das kommt daher, dass man sie definieren kann, und ihnen keinen Namen geben muss.\n",
    "\n",
    "Im Gegensatz zu Funktionen, die praktisch beliebig lang sein dürfen, ist ein Lambda nur einen einzigen Ausdruck lang.\n",
    "Anstatt mit `def` definiert man ein Lambda mit `lambda`:"
   ]
  },
  {
   "cell_type": "code",
   "execution_count": null,
   "metadata": {},
   "outputs": [],
   "source": [
    "lambda a, b: a * b"
   ]
  },
  {
   "cell_type": "markdown",
   "metadata": {},
   "source": [
    "Lambdas zu verwenden ergibt deshalb nicht an vielen Stellen Sinn.\n",
    "Eine davon ist, das Lambda direkt an eine Funktion weiter zu geben.\n",
    "Beispielsweise könnten wir eine Funktion"
   ]
  },
  {
   "cell_type": "code",
   "execution_count": null,
   "metadata": {},
   "outputs": [],
   "source": [
    "def verarbeite_zahlen(zahl1, zahl2, funktion):\n",
    "    print(\"Input: {}, {}\".format(zahl1, zahl2))\n",
    "    ergebnis = funktion(zahl1, zahl2)\n",
    "    print(\"Ergebnis: {}\".format(ergebnis))"
   ]
  },
  {
   "cell_type": "markdown",
   "metadata": {},
   "source": [
    "definieren, die zwei Zahlen und eine beliebige Funktion entgegennimmt.\n",
    "\n",
    "Wollen wir diese Funktion jetzt mit verschiedenen Berechnungsvorschriften aufrufen, können wir diese als Lambda übergeben:"
   ]
  },
  {
   "cell_type": "code",
   "execution_count": null,
   "metadata": {},
   "outputs": [],
   "source": [
    "verarbeite_zahlen(1, 2, lambda a, b: a + b)"
   ]
  },
  {
   "cell_type": "code",
   "execution_count": null,
   "metadata": {},
   "outputs": [],
   "source": [
    "verarbeite_zahlen(1, 2, lambda a, b: str(a) + \" und \" + str(b))"
   ]
  },
  {
   "cell_type": "markdown",
   "metadata": {},
   "source": [
    "Das waren nur \"Spielbeispiele\" -- ein wirklich sinnvoller Anwendungsfall für Lambdas ist, wenn man per `max()` den Größten Wert in einer Liste finden will.\n",
    "\n",
    "Angenommen, die Liste enthält nur Strings"
   ]
  },
  {
   "cell_type": "code",
   "execution_count": null,
   "metadata": {},
   "outputs": [],
   "source": [
    "hauptpersonen = [\n",
    "    \"Robert Baratheon\",\n",
    "    \"Jaime Lannister\",\n",
    "    \"Cersei Lannister\",\n",
    "    \"Catelyn Stark\",\n",
    "    \"Daenerys Targaryen\",\n",
    "    \"Viserys Targaryen\",\n",
    "    \"Jorah Mormont\",\n",
    "]"
   ]
  },
  {
   "cell_type": "markdown",
   "metadata": {},
   "source": [
    "Dann bekommt man mit `max()` normalerweise den Namen, der mit den hintersten Buchstaben aus dem Alphabet anfängt:"
   ]
  },
  {
   "cell_type": "code",
   "execution_count": null,
   "metadata": {},
   "outputs": [],
   "source": [
    "max(hauptpersonen)"
   ]
  },
  {
   "cell_type": "markdown",
   "metadata": {},
   "source": [
    "Mit dem Argument `key` kann man `max()` mitgeben, nach welchem Kriterium die Größe eines Eintrags entschieden werden soll -- beispielsweise kann man nach dem Eintrag mit den meisten Buchstaben suchen:"
   ]
  },
  {
   "cell_type": "code",
   "execution_count": null,
   "metadata": {},
   "outputs": [],
   "source": [
    "max(hauptpersonen, key=lambda name: len(name))"
   ]
  },
  {
   "cell_type": "markdown",
   "metadata": {},
   "source": [
    "Bei `key` kann man eine Funktion angeben, die auf die Einträge in der Liste angewendet werden soll, bevor verglichen wird.\n",
    "Mit einem Lambda können wir diese Funktion direkt angeben."
   ]
  },
  {
   "cell_type": "markdown",
   "metadata": {},
   "source": [
    "----------\n",
    "## Übungen\n",
    "\n",
    "Suche mit der `max()`-Funktion unter welchem Eintrag (_Key_) im folgenden Dictionary der größte Wert (_Value_) gespeichert ist:\n"
   ]
  },
  {
   "cell_type": "code",
   "execution_count": null,
   "metadata": {},
   "outputs": [],
   "source": [
    "jahreseinkommen_millionen_dollar = {\n",
    "    \"Dwayne Johnson\": 89.4,\n",
    "    \"Chris Hemsworth\": 76.4,\n",
    "    \"Robert Downey Jr.\": 66,\n",
    "    \"Akshay Kumar\": 65,\n",
    "}"
   ]
  },
  {
   "cell_type": "code",
   "execution_count": null,
   "metadata": {},
   "outputs": [],
   "source": [
    "# Hier kannst du die Übung machen"
   ]
  },
  {
   "cell_type": "code",
   "execution_count": null,
   "metadata": {},
   "outputs": [],
   "source": [
    "# Lösung\n",
    "\n",
    "message = b'TMO2c3VuZzoKYGBgcHl0aG9uCm1heChqYWhyZXNlaW5rb21tZW5fbWlsbGlvbmVuX2RvbGxhciwga2V5PWxhbWJkYSBuYW1lOiBqYWhyZXNlaW5rb21tZW5fbWlsbGlvbmVuX2RvbGxhcltuYW1lXSkKYGBgCgpXw7xyZGUgbWFuIGhpZXIga2VpbiBga2V5YCBhbmdlYmVuLCBkYW5uIHfDvHJkZSB3aWVkZXIgZGVyIE5hbWUgZ2VzdWNodCB3ZXJkZW4sIGRlciBtaXQgZGVtIGhpbnRlcnN0ZW4gQnVjaHN0YWJlbiBpbSBBbHBoYWJldCBhbmbDpG5ndC4Kw5xiZXIgZGVuIGBrZXlgLVBhcmFtZXRlciBrYW5uIG1hbiBhbmdlYmVuLCBkYXNzIG1hbiBsaWViZXIgZGllIEVpbmtvbW1lbiBzdGF0dCBkZXIgTmFtZW4gdmVyZ2xlaWNoZW4gd2lsbC4='\n",
    "\n",
    "import base64\n",
    "from IPython.display import display, Markdown\n",
    "decoded = base64.b64decode(message).decode(\"utf-8\")\n",
    "display(Markdown(decoded))"
   ]
  },
  {
   "cell_type": "code",
   "execution_count": null,
   "metadata": {},
   "outputs": [],
   "source": []
  }
 ],
 "metadata": {
  "kernelspec": {
   "display_name": "Python 3",
   "language": "python",
   "name": "python3"
  },
  "language_info": {
   "codemirror_mode": {
    "name": "ipython",
    "version": 3
   },
   "file_extension": ".py",
   "mimetype": "text/x-python",
   "name": "python",
   "nbconvert_exporter": "python",
   "pygments_lexer": "ipython3",
   "version": "3.8.0"
  }
 },
 "nbformat": 4,
 "nbformat_minor": 4
}
