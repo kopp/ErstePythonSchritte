{
 "cells": [
  {
   "cell_type": "markdown",
   "metadata": {},
   "outputs": [],
   "source": [
    "# Callable  (NOCH NICHT ABGESCHLOSSEN!)\n",
    "\n",
    "Eine bestimmte Kategorie von Objekten sind die sogenannten _Callable_-Objekte.\n",
    "Der wichtigste Vertreter dieser\n",
    "\n",
    "Sie sind mit `()`-Notation aufrufbar:\n",
    "\n",
    "    output1, output2, ... = callable_name(input1, input2, ...)\n",
    "\n",
    "Beispielsweise (diese Callable sind in Python \"eingebaut\"):"
   ]
  },
  {
   "cell_type": "code",
   "metadata": {},
   "outputs": [],
   "source": [
    "print(\"foo\")                    # kein Output, nur Input\n",
    "\n",
    "zahlen = [5, 8, 123]\n",
    "groesste_zahl = max(zahlen)     # ein Output, ein Input\n",
    "print(groesste_zahl)\n",
    "\n",
    "leere_liste = list()            # ein Output, kein Input\n",
    "print(leere_liste)"
   ]
  },
  {
   "cell_type": "markdown",
   "metadata": {},
   "outputs": [],
   "source": [
    "# Funktionen\n",
    "\n",
    "Die wichtigste Gruppe von Callables sind die _Funktionen_.\n",
    "\n",
    "Man kann leicht eine eigene Funktion definieren:"
   ]
  },
  {
   "cell_type": "code",
   "metadata": {},
   "outputs": [],
   "source": [
    "def bmi_berechnen(masse_in_kg, groesse_in_m):\n",
    "    bmi = masse_in_kg / groesse_in_m**2\n",
    "    return bmi"
   ]
  },
  {
   "cell_type": "markdown",
   "metadata": {},
   "outputs": [],
   "source": [
    "TODO\n",
    "\n",
    "def\n",
    "\n",
    "Name\n",
    "\n",
    "Parameter\n",
    "\n",
    ":\n",
    "\n",
    "Einrückung\n",
    "\n",
    "Inhalt\n",
    "\n",
    "-> Probiere, was passiert, wenn Einrückung nicht so gemacht ist\n",
    "\n",
    "return: Outputs"
   ]
  },
  {
   "cell_type": "code",
   "metadata": {},
   "outputs": [],
   "source": [
    "# Berechne hier deinen BMI:\n",
    "mein_bmi =\n",
    "print(mein_bmi)"
   ]
  },
  {
   "cell_type": "code",
   "metadata": {},
   "outputs": [],
   "source": [
    "# Lösung\n",
    "import base64\n",
    "from IPython.display import display, Markdown\n",
    "message = b'QmVpc3BpZWw6IGBtZWluX2JtaSA9IGJtaV9iZXJlY2huZW4oNjUsIDEuODUpYCBmw7xyIGVpbmVuIDY1a2cgc2Nod2VyZW4gdW5kIDE4MGNtIGdyb8OfZW4gTWVuc2NoZW4u'\n",
    "decoded = base64.b64decode(message).decode(\"utf-8\")\n",
    "display(Markdown(decoded))"
   ]
  },
  {
   "cell_type": "markdown",
   "metadata": {},
   "outputs": [],
   "source": [
    "--------\n",
    "\n",
    "### Für die Wissbegierigen\n",
    "\n",
    "Der `()`-Aufruf wird in Python durch die Magische Methode `__call__` umgesetzt:\n"
   ]
  },
  {
   "cell_type": "code",
   "metadata": {},
   "outputs": [],
   "source": [
    "print(\"Hallo (direkt)\")\n",
    "print.__call__(\"Hallo (durch __call__)\")"
   ]
  },
  {
   "cell_type": "markdown",
   "metadata": {},
   "outputs": [],
   "source": [
    "----------\n",
    "\n",
    "### Übung\n",
    "\n",
    "1. `print()` hat keinen Output.  Was für ein Typ kommt heraus, wenn man trotzdem einen `output = ` vor einen `print`-Aufruf stellt?"
   ]
  },
  {
   "cell_type": "code",
   "metadata": {},
   "outputs": [],
   "source": [
    "# hier kannst du die Übung machen"
   ]
  },
  {
   "cell_type": "code",
   "metadata": {},
   "outputs": [],
   "source": [
    "# Lösungen"
   ]
  },
  {
   "cell_type": "markdown",
   "metadata": {},
   "outputs": [],
   "source": [
    "-----------------------"
   ]
  },
  {
   "cell_type": "code",
   "metadata": {},
   "outputs": [],
   "source": []
  }
 ],
 "metadata": {
  "kernelspec": {
   "display_name": "Python 3",
   "language": "python",
   "name": "python3"
  },
  "language_info": {
   "codemirror_mode": {
    "name": "ipython",
    "version": 3
   },
   "file_extension": ".py",
   "mimetype": "text/x-python",
   "name": "python",
   "nbconvert_exporter": "python",
   "pygments_lexer": "ipython3",
   "version": "3.8.0"
  }
 },
 "nbformat": 4,
 "nbformat_minor": 4
}