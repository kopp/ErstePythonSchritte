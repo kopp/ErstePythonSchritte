{
 "cells": [
  {
   "cell_type": "markdown",
   "metadata": {},
   "source": [
    "# Container\n",
    "\n",
    "Mit einfachen Objekten wie `3` (ein `int`) und `\"Hallo\"` (ein `str`) kann man noch nicht wirklich viel anfangen.\n",
    "Um ein Problem bearbeiten zu können, brauchen wir normalerweise komplexere Objekte.\n",
    "Diese setzen sich zusammen aus den Fundamentalen Objekten, die wir schon kennen gelernt haben.\n",
    "Man spricht hier davon, dass man einen _Container_ verwendet, um mehrere andere Objekte zusammenzufassen und gemeinsam bearbeiten zu können.\n",
    "\n",
    "Hier die beiden wichtigsten Container."
   ]
  },
  {
   "cell_type": "markdown",
   "metadata": {},
   "source": [
    "## Die Liste\n",
    "\n",
    "Eine _Liste_ (`list`) kann man sich vorstellen wie ein Regalbrett für Bücher.\n",
    "- Die Bücher (Objekte) sind einer bestimmten Reihenfolge (und zwar in der, wie der Nutzer sie eingeräumt hat)\n",
    "- Es können ganz verschiedene Bücher nebeneinander stehen (eine Liste kann Objekte von verschiedene Typen enthalten)\n",
    "- Man kann einzelne Bücher aus dem Regal nehmen und neue Bücher zwischen bereits vorhandene stellen\n",
    "\n",
    "In Python schreibt man eine Liste mit `[]`; bspw."
   ]
  },
  {
   "cell_type": "code",
   "execution_count": null,
   "metadata": {},
   "outputs": [],
   "source": [
    "meine_liste = [\"Hund\", 3, \"Haus\", False]"
   ]
  },
  {
   "cell_type": "markdown",
   "metadata": {},
   "source": [
    "Auch diese Liste hat wieder Methoden; beispielsweise"
   ]
  },
  {
   "cell_type": "code",
   "execution_count": null,
   "metadata": {},
   "outputs": [],
   "source": [
    "meine_liste.append(\"Baum\")  # Neues Element ans Ende der Liste anhängen\n",
    "meine_liste.index(\"Baum\")   # Index für dieses Element angeben"
   ]
  },
  {
   "cell_type": "markdown",
   "metadata": {},
   "source": [
    "Um auf ein Element an einer bestimmten Stelle in der Liste zuzugreifen, kann man dies mit `listen_name[index]` machen:"
   ]
  },
  {
   "cell_type": "code",
   "execution_count": null,
   "metadata": {},
   "outputs": [],
   "source": [
    "meine_liste[2]"
   ]
  },
  {
   "cell_type": "markdown",
   "metadata": {},
   "source": [
    "_Achtung_: Bei Python (und bei vielen anderen Programmiersprachen) hat das erste Element den Index `0`:"
   ]
  },
  {
   "cell_type": "code",
   "execution_count": null,
   "metadata": {},
   "outputs": [],
   "source": [
    "meine_liste[0]"
   ]
  },
  {
   "cell_type": "markdown",
   "metadata": {},
   "source": [
    "Zusätzlich kann man mit negativen Indices die Elemente vom Ende der Liste her adressieren:"
   ]
  },
  {
   "cell_type": "code",
   "execution_count": null,
   "metadata": {},
   "outputs": [],
   "source": [
    "meine_liste[-1]"
   ]
  },
  {
   "cell_type": "markdown",
   "metadata": {},
   "source": [
    "----------\n",
    "\n",
    "### Übung\n",
    "\n",
    "Listen kann man \"verschachteln\", also eine Liste kann als Element auch eine Liste enthalten.\n",
    "Erstelle folgende Listen:\n",
    "\n",
    "1. Eine Liste, die `1`, `2` und die Liste `[3]` enthält\n",
    "1. Eine Liste, die `\"Katze\"` und `[\"Maus\", \"Kuchen\"]` enthält\n",
    "1. Eine Liste, die drei leere Listen `[]` und `False` enthält"
   ]
  },
  {
   "cell_type": "code",
   "execution_count": null,
   "metadata": {},
   "outputs": [],
   "source": [
    "# Hier kannst du die Übung machen\n",
    "\n"
   ]
  },
  {
   "cell_type": "code",
   "execution_count": null,
   "metadata": {},
   "outputs": [],
   "source": [
    "# Hier kannst du die Lösung anschauen -- werte dazu diese Zelle aus\n",
    "\n",
    "import base64\n",
    "from IPython.display import display, Markdown\n",
    "message = b'CjEuIGBbMSwgMiwgWzNdXWAKMS4gYFsiS2F0emUiLCBbIk1hdXMiLCAiS3VjaGVuIl1dYAoxLiBgW1tdLCBbXSwgW10sIEZhbHNlXWAK'\n",
    "display(Markdown(base64.b64decode(message).decode(\"utf-8\")))\n",
    "message = b'SGlud2VpczogTWFuIGthbm4gZGllIExpc3RlIGF1Y2ggbmFjaCB1bmQgbmFjaCBmw7xsbGVuOyBic3B3LgoKICAgIG1laW5lX2xpc3RlID0gW10KICAgIG1laW5lX2xpc3RlLmFwcGVuZCgxKQogICAgbWVpbmVfbGlzdGUuYXBwZW5kKDIpCiAgICBtZWluZV9saXN0ZS5hcHBlbmQoWzNdKQo='\n",
    "display(Markdown(base64.b64decode(message).decode(\"utf-8\")))"
   ]
  },
  {
   "cell_type": "markdown",
   "metadata": {},
   "source": [
    "-----------------"
   ]
  },
  {
   "cell_type": "markdown",
   "metadata": {},
   "source": [
    "# Das Dictionary\n",
    "\n",
    "Ein _Dictionary_ (`dict`) kann man sich -- wie der Name (Engl. \"Lexikon\") schon sagt -- vorstellen, wie ein Lexikon.\n",
    "Die Objekte in einem Lexikon sind nach Namen geordnet; will man ein Objekt finden, muss man den Namen kennen (oder muss das ganze Lexikon durchsuchen).\n",
    "\n",
    "In Python schreibt man ein Dictionary mit `{}`; bspw."
   ]
  },
  {
   "cell_type": "code",
   "execution_count": null,
   "metadata": {},
   "outputs": [],
   "source": [
    "groessen_in_cm = {\n",
    "    \"Maus\": 10,\n",
    "    \"Hund\": 60,\n",
    "    \"Mensch\": 176,\n",
    "    \"Bakterium\": \"weiss nicht\",\n",
    "    \"1\": False,\n",
    "}"
   ]
  },
  {
   "cell_type": "markdown",
   "metadata": {},
   "source": [
    "Die \"Namen\" in dem Dictionary heißen _key_ und die darunter gespeicherten Objekte _values_.\n",
    "So kann man bspw. per"
   ]
  },
  {
   "cell_type": "code",
   "execution_count": null,
   "metadata": {},
   "outputs": [],
   "source": [
    "groessen_in_cm.keys()"
   ]
  },
  {
   "cell_type": "markdown",
   "metadata": {},
   "source": [
    "auf die Namen zugreifen und per"
   ]
  },
  {
   "cell_type": "code",
   "execution_count": null,
   "metadata": {},
   "outputs": [],
   "source": [
    "groessen_in_cm.values()"
   ]
  },
  {
   "cell_type": "markdown",
   "metadata": {},
   "source": [
    "auf die Objekte.\n",
    "\n",
    "So wie man Lexika hauptsächlich benutzt, um einen Eintrag nachzuschlagen, verwendet man `dict`s hauptsächlich, um die Objekte, die zu einem Namen zugeordnet sind, abzurufen oder zu modifizieren.\n",
    "Auch das macht man per `[]`, nur dass man diesmal keinen Index in die `[]` schreibt, sondern den Namen:"
   ]
  },
  {
   "cell_type": "code",
   "execution_count": null,
   "metadata": {},
   "outputs": [],
   "source": [
    "groessen_in_cm[\"Maus\"]"
   ]
  },
  {
   "cell_type": "markdown",
   "metadata": {},
   "source": [
    "Ebenso kann man das gespeicherte Objekt verändern, oder ein neues hinzufügen:"
   ]
  },
  {
   "cell_type": "code",
   "execution_count": null,
   "metadata": {},
   "outputs": [],
   "source": [
    "groessen_in_cm[\"Maus\"] = 12\n",
    "groessen_in_cm[\"Haus\"] = 1200"
   ]
  },
  {
   "cell_type": "markdown",
   "metadata": {},
   "source": [
    "Möchte man auf einen Namen zugreifen, der nicht in dem Dictionary vorhande ist, dann reagiert Python mit einer _Exception_.\n",
    "Damit signalisiert Python, dass hier ein Fehler vorliegt.\n",
    "Siehe auch [Fehlerbehandlung](LektionExceptions.ipynb)."
   ]
  },
  {
   "cell_type": "code",
   "execution_count": null,
   "metadata": {},
   "outputs": [],
   "source": [
    "groessen_in_cm[\"Blauwal\"]"
   ]
  },
  {
   "cell_type": "markdown",
   "metadata": {},
   "source": [
    "Wem es noch nicht aufgefallen ist: Wir können hier Objekte ganz verschiedener Typen als Key und Value verwenden."
   ]
  },
  {
   "cell_type": "markdown",
   "metadata": {},
   "source": [
    "---------\n",
    "\n",
    "_Für die Wissbegierigen_\n",
    "\n",
    "Das hat aber seine Grenzen:\n",
    "Als Key dürfen nur Objekte von \"hashable types\" verwende werden.\n",
    "Das sind Objekte, die nicht verändert werden können.\n",
    "Die Zahl `3` bspw. kann nicht verändert werden, der String `\"Hund\"` auch nicht, eine Liste aber schon\n",
    "(Siehe auch [diese schöne Antwort](https://stackoverflow.com/a/42203721/2165903).):"
   ]
  },
  {
   "cell_type": "code",
   "execution_count": null,
   "metadata": {},
   "outputs": [],
   "source": [
    "geht_nicht = {\n",
    "    [1,2]: [3,4]\n",
    "}"
   ]
  },
  {
   "cell_type": "markdown",
   "metadata": {},
   "source": [
    "-------------"
   ]
  },
  {
   "cell_type": "markdown",
   "metadata": {},
   "source": [
    "### Übungen\n",
    "\n",
    "1. Erstelle einen Dictionary, der für 3 dir bekannte Personen deren Lieblingsfarbe angibt.\n",
    "2. Füge in dem Dictionary eine weitere Person mit ihrer Lieblingsfarbe ein.\n",
    "3. Wie viele `keys` erwartest du in dem Dictionary `{\"Hans\": 1, \"Peter\": 2, \"Claudia\": 3, \"Hans\": 4}`?\n",
    "   Stimmt die Vermutung und kannst du das Ergebnis erklären?"
   ]
  },
  {
   "cell_type": "code",
   "execution_count": null,
   "metadata": {},
   "outputs": [],
   "source": [
    "# Hier kannst du die Übungen machen\n"
   ]
  },
  {
   "cell_type": "code",
   "execution_count": null,
   "metadata": {},
   "outputs": [],
   "source": [
    "# Hier kannst du die Lösungen sehen\n",
    "\n",
    "message = b'MS4gYGxpZWJsaW5nc2ZhcmJlbiA9IHsiQ29yaSI6ICJyb3QiLCAiT21hIjogImJsYXUiLCAiUGFwYSI6ICJnZWxiIn1gCjIuIGBsaWVibGluZ3NmYXJiZW5bIlBhdWwiXSA9ICJibGF1ImAKMy4gMyBLZXlzOyBIYW5zIHdhciBkb3BwZWx0IGFscyBLZXksIGRlciB6d2VpdGUgw7xiZXJzY2hyZWlidCBkZW4gZXJzdGVuLgogICBadW0gdGVzdGVuOiBgbGVuKHsiSGFucyI6IDEsICJQZXRlciI6IDIsICJDbGF1ZGlhIjogMywgIkhhbnMiOiA0fS5rZXlzKCkpYCAtLT4gMwogICB1bmQgYHsiSGFucyI6IDEsICJQZXRlciI6IDIsICJDbGF1ZGlhIjogMywgIkhhbnMiOiA0fVsiSGFucyJdYCAtLT4gNCAoendlaXRlciBXZXJ0KQ=='\n",
    "\n",
    "import base64\n",
    "from IPython.display import display, Markdown\n",
    "decoded = base64.b64decode(message).decode(\"utf-8\")\n",
    "display(Markdown(decoded))"
   ]
  },
  {
   "cell_type": "markdown",
   "metadata": {},
   "source": [
    "### Projekt: Wortersetzung\n",
    "\n",
    "Inspiriert durch das folgende Webcomic:\n",
    "\n",
    "![Wortersetzung: \"Batman\" zu \"A Man dressed as a Bat\"](https://imgs.xkcd.com/comics/batman.png)\n",
    "\n",
    "Erstelle ein eigenes Programm, das in einem Text bestimmte Wörter durch andere Wörter ersetzt.\n",
    "\n",
    "Tips:\n",
    "\n",
    "1. Die Ersetzungen kannst du in einem Dictionary speichern; bspw.\n",
    "\n",
    "        ersetzungen = {\n",
    "            \"Batman\": \"a man dressed like a bat\",\n",
    "            \"Catgirl\": \"a woman dressed like a cat\",\n",
    "        }\n",
    "        \n",
    "1. Wenn du einen langen Text speichern willst, dann verwende am bestem `\"\"\"`:\n",
    "\n",
    "        text = \"\"\"hier ist ein langer Text .  Durch die Verwendung von drei\n",
    "                  Anführungszeichen kann er auch mehrere Zeilen lang sein .\"\"\"\n",
    "                  \n",
    "    Hier sind mit Absicht die Punkte mit Abstand zum letzten Wort gemacht.\n",
    "    Da Python kein Deutsch versteht, muss man ihm helfen; hier, indem wir hinter\n",
    "    jedem Wort ein Leerzeichen machen.\n",
    "1. Um über einzelne Wörter in einem Text zu iterieren, verwende `text.split()`, um daraus eine\n",
    "   Liste von Wörtern zu machen.\n",
    "1. Um ein Wort auszugeben, ohne eine neue Zeile zu erzeugen, verwende `print(\"wort\", end=\" \")`.\n",
    "   Statt einer neuen Zeile wird dann nach dem Wort nur ein Leerzeichen gemacht."
   ]
  },
  {
   "cell_type": "code",
   "execution_count": null,
   "metadata": {},
   "outputs": [],
   "source": [
    "# Hier kannst du das Projekt bearbeiten\n",
    "\n",
    "text = \"\"\"Know your limits .   Batman has no limits .\n",
    "\n",
    "What the hell are you ?   I am Batman .\n",
    "\n",
    "What do you propose ?   It is simple -- we kill Batman . \"\"\"\n",
    "\n",
    "ersetzungen = {\n",
    "            \"Batman\": \"a man dressed like a bat\",\n",
    "            \"Catgirl\": \"a woman dressed like a cat\",\n",
    "        }\n",
    "\n",
    "# TODO"
   ]
  },
  {
   "cell_type": "code",
   "execution_count": null,
   "metadata": {},
   "outputs": [],
   "source": [
    "# Mögliche Lösungen\n",
    "\n",
    "message = b'Rm9sZ2VuZGVyIENvZGUgcmVpY2h0OgpgYGAKZm9yIHdvcnQgaW4gdGV4dC5zcGxpdCgpOgogICAgcHJpbnQoZXJzZXR6dW5nZW4uZ2V0KHdvcnQsIHdvcnQpLCBlbmQ9IiAiKQpgYGAKRGFiZWkgdmVyd2VuZGV0IG1hbiwgZGFzcyBkaWUgTWV0aG9kZSBgZ2V0YCBlaW5lbiB6d2VpdGVuIFBhcmFtZXRlciBoYXQsIGRlciBhdXNnZWdlYmVuCndpcmQsIHdlbm4gZGVyIGVyc3RlIG5pY2h0IGltIERpY3Rpb25hcnkgZW50aGFsdGVuIGlzdC4KCk1hbiBrYW5uIGFiZXIgYXVjaCAia2xhc3Npc2NoIiBmb2xnZW5kZXMgbWFjaGVuCmBgYApmb3Igd29ydCBpbiB0ZXh0LnNwbGl0KCk6CiAgICBpZiB3b3J0IGluIGVyc2V0enVuZ2VuOgogICAgICAgIHByaW50KGVyc2V0enVuZ2VuW3dvcnRdLCBlbmQ9IiAiKQogICAgZWxzZToKICAgICAgICBwcmludCh3b3J0LCBlbmQ9IiAiKQpgYGA='\n",
    "\n",
    "import base64\n",
    "from IPython.display import display, Markdown\n",
    "decoded = base64.b64decode(message).decode(\"utf-8\")\n",
    "display(Markdown(decoded))"
   ]
  },
  {
   "cell_type": "markdown",
   "metadata": {},
   "source": [
    "### Projekt: Programmiere ein einfaches Telefonbuch \n",
    "\n",
    "Es sollte so funktionieren: \n",
    "\n",
    "1. Ich tippe einen Namen ein, dann sagt mir das Programm die Nummer. \n",
    "1. Gibt es den Namen nicht, dann wird \"unbekannt\" ausgegeben. \n",
    "1. Ich tippe `neu <name> <nummer>`, dann wird die neue Nummer gespeichert und ich kann per `<name>` die Nummer abfragen.\n",
    "\n",
    "Beispielsweise könnte das so aussehen (wenn die Nummer der Polizei schon gespeichert ist):\n",
    "\n",
    "```\n",
    "Telefonbuch:  Polizei\n",
    "Nummer von Polizei ist 112\n",
    "Telefonbuch:  Karl\n",
    "Kein Eintrag unter Karl\n",
    "Telefonbuch:  add Karl 0734563264\n",
    "Telefonbuch:  Karl\n",
    "Nummer von Karl ist 0734563264\n",
    "```\n",
    "\n",
    "Dabei wird immer `Telefonbuch: ` vom Program angezeigt und man kann eine Eingabe machen.\n",
    "Es folgt dann eine Ausgabe.\n",
    "\n",
    "Tips:\n",
    "\n",
    "1. Um eine Eingabe vom Nutzer des Telefonbuchs zu bekommen, kann man `input(\"Telefonbuch: \")` verwenden.\n",
    "   Das liefert als Ergebnis den Text zurück, den der Nutzer eingetippt hat (als String).\n",
    "1. Per `eingabe.split()` kann man die Eingabe in einzelne Worte aufteilen.\n",
    "   Das Ergebnis ist eine Liste.\n",
    "   Mit den Indices kann man darauf zugreifen; bei `worte = eingabe.split()` ist in `worte[0]` das erste eingegebene Wort.\n",
    "1. Um immer wieder eine Abfrage zu stellen, kann man diese in eine `while True:`-Schleife packen.\n",
    "   Der Code wird dann so lange ausgeführt, bis es zu einem Fehler kommt oder bis man in der Schleife `break` aufruft."
   ]
  },
  {
   "cell_type": "code",
   "execution_count": null,
   "metadata": {},
   "outputs": [],
   "source": [
    "# Hier kannst du das Projekt bearbeiten\n",
    "\n",
    "telefonbuch = {\n",
    "    \"Notruf\": 112,\n",
    "    \"Polizei\": 112,\n",
    "    \"Feuerwehr\": 112,\n",
    "}\n",
    "\n",
    "while True:\n",
    "    eingabe = input(\"Telefonbuch: \")\n",
    "    # tu etwas mit der Eingabe..."
   ]
  },
  {
   "cell_type": "code",
   "execution_count": null,
   "metadata": {},
   "outputs": [],
   "source": [
    "# Mögliche Lösung\n",
    "\n",
    "message = b'RGFtaXQgaMOkdHRlIG1hbiBkYXMgUHJvYmxlbSBnZWzDtnN0OgpgYGBweXRob24KdGVsZWZvbmJ1Y2ggPSB7CiAgICAiTm90cnVmIjogMTEyLAogICAgIlBvbGl6ZWkiOiAxMTIsCiAgICAiRmV1ZXJ3ZWhyIjogMTEyLAp9Cgp3aGlsZSBUcnVlOgogICAgZWluZ2FiZSA9IGlucHV0KCJUZWxlZm9uYnVjaDogIikKICAgIGlmIGVpbmdhYmUgaW4gdGVsZWZvbmJ1Y2g6CiAgICAgICAgbnVtbWVyID0gdGVsZWZvbmJ1Y2hbZWluZ2FiZV0KICAgICAgICBwcmludCgiTnVtbWVyIHZvbiB7fSBpc3Qge30iLmZvcm1hdChlaW5nYWJlLCBudW1tZXIpKQogICAgZWxzZToKICAgICAgICBlaW5nZWdlYmVuZV93b3J0ZSA9IGVpbmdhYmUuc3BsaXQoKQogICAgICAgIGlmIGxlbihlaW5nZWdlYmVuZV93b3J0ZSkgPT0gMyBhbmQgZWluZ2VnZWJlbmVfd29ydGVbMF0gPT0gImFkZCI6CiAgICAgICAgICAgIG5hbWUgPSBlaW5nZWdlYmVuZV93b3J0ZVsxXQogICAgICAgICAgICBudW1tZXIgPSBlaW5nZWdlYmVuZV93b3J0ZVsyXQogICAgICAgICAgICB0ZWxlZm9uYnVjaFtuYW1lXSA9IG51bW1lcgogICAgICAgIGVsc2U6CiAgICAgICAgICAgIHByaW50KCJLZWluIEVpbnRyYWcgdW50ZXIge30iLmZvcm1hdChlaW5nYWJlKSkKYGBgCgpXYXMgbm9jaCBmZWhsdDogIE1hbiBrYW5uIGRhcyBQcm9ncmFtbSBuaWNodCBiZWVuZGVuLgpEYXp1IGvDtm5udGUgbWFuIGVpbmUgQWJmcmFnZSB3aWUgYnNwdy4KCmBgYHB5dGhvbgppZiBlaW5nYWJlID09ICJxdWl0IjoKICAgIGJyZWFrCmBgYGAKCmVpbmJhdWVuLgpUaXBwdCBkZXIgTnV0emVyIGBxdWl0YCBlaW4sIHdpcmQgZGFzIFByb2dyYW1tIGJlZW5kZXQu'\n",
    "\n",
    "import base64\n",
    "from IPython.display import display, Markdown\n",
    "decoded = base64.b64decode(message).decode(\"utf-8\")\n",
    "display(Markdown(decoded))"
   ]
  },
  {
   "cell_type": "markdown",
   "metadata": {},
   "source": [
    "----------"
   ]
  },
  {
   "cell_type": "code",
   "execution_count": null,
   "metadata": {},
   "outputs": [],
   "source": []
  }
 ],
 "metadata": {
  "kernelspec": {
   "display_name": "Python 3",
   "language": "python",
   "name": "python3"
  },
  "language_info": {
   "codemirror_mode": {
    "name": "ipython",
    "version": 3
   },
   "file_extension": ".py",
   "mimetype": "text/x-python",
   "name": "python",
   "nbconvert_exporter": "python",
   "pygments_lexer": "ipython3",
   "version": "3.8.0"
  }
 },
 "nbformat": 4,
 "nbformat_minor": 4
}
