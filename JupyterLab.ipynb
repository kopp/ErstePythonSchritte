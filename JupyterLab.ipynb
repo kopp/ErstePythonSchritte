{
 "cells": [
  {
   "cell_type": "markdown",
   "metadata": {},
   "source": [
    "# Jupyter Lab\n",
    "\n",
    "Jupyter Lab Möchte _Interactive Computing_ ermöglichen:\n",
    "Der Programmierer soll direkt sehen, was seine Änderung bewirkt.\n",
    "Mit Jupyter Lab kann man merhere Programmiersprachen verwenden.\n",
    "Es ist sehr gut, um eine Sprache oder ein Feature auszuprobiere, ist aber gerade für Big-Data-Anwendungen mittlerweile fast schon Standard geworden, weil man damit Dokumente schreiben kann, die direkt mit Daten arbeiten -- und der Leser sich so schnell überzeugen kann, dass die Rechnungen mit diesen Daten korrekt war und auch selber mit den Daten spielen kann, ob er nicht noch etwas anderes/besseres daraus lesen kann.\n",
    "Siehe auch die Projektseite https://jupyter.org/.\n",
    "\n",
    "Um einen schnellen Einstieg zu ermöglichen, muss man Python oder Jupyter Lab nicht auf seinem PC installieren.\n",
    "Stattdessen hat das schon jemand \"in der cloud\" getan, und zwar das Binder-Projekt: https://mybinder.org/.\n",
    "Wenn man darüber dieses Dokument startet, wird aller Python-Code auf den Servern dort ausgeführt."
   ]
  },
  {
   "cell_type": "markdown",
   "metadata": {},
   "source": [
    "# Praktische Tips in Jupyter Lab\n",
    "\n",
    "- Eine Zelle wird ausgewertet, wenn man _Shift + Enter_ drückt.\n",
    "- Verwende beim Schreiben von Code _Tabulator_ um Dinge zu Vervollständigen.\n",
    "  Hast du bspw. eine Variable `mit_langem_namen` definiert, dann kannst du anfangen, `mit_l` zu schreiben und drückst _Tabulator_.\n",
    "  Dir sollte dann der komplette Name vorgeschlagen werden und du kannst ihn mit _Enter_ akzeptieren."
   ]
  },
  {
   "cell_type": "code",
   "execution_count": null,
   "metadata": {},
   "outputs": [],
   "source": []
  }
 ],
 "metadata": {
  "kernelspec": {
   "display_name": "Python 3",
   "language": "python",
   "name": "python3"
  },
  "language_info": {
   "codemirror_mode": {
    "name": "ipython",
    "version": 3
   },
   "file_extension": ".py",
   "mimetype": "text/x-python",
   "name": "python",
   "nbconvert_exporter": "python",
   "pygments_lexer": "ipython3",
   "version": "3.8.0"
  }
 },
 "nbformat": 4,
 "nbformat_minor": 4
}
