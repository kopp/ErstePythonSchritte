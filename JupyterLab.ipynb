{
 "cells": [
  {
   "cell_type": "markdown",
   "metadata": {},
   "source": [
    "# Jupyter Lab\n",
    "\n",
    "Jupyter Lab Möchte _Interactive Computing_ ermöglichen:\n",
    "Der Programmierer soll direkt sehen, was seine Änderung bewirkt.\n",
    "Mit Jupyter Lab kann man merhere Programmiersprachen verwenden.\n",
    "Es ist sehr gut, um eine Sprache oder ein Feature auszuprobiere, ist aber gerade für Big-Data-Anwendungen mittlerweile fast schon Standard geworden, weil man damit Dokumente schreiben kann, die direkt mit Daten arbeiten -- und der Leser sich so schnell überzeugen kann, dass die Rechnungen mit diesen Daten korrekt war und auch selber mit den Daten spielen kann, ob er nicht noch etwas anderes/besseres daraus lesen kann.\n",
    "Siehe auch die Projektseite https://jupyter.org/.\n",
    "\n",
    "Um einen schnellen Einstieg zu ermöglichen, muss man Python oder Jupyter Lab nicht auf seinem PC installieren.\n",
    "Stattdessen hat das schon jemand \"in der cloud\" getan, und zwar das Binder-Projekt: https://mybinder.org/.\n",
    "Wenn man darüber dieses Dokument startet, wird aller Python-Code auf den Servern dort ausgeführt."
   ]
  }
 ],
 "metadata": {
  "kernelspec": {
   "display_name": "Python 3",
   "language": "python",
   "name": "python3"
  },
  "language_info": {
   "codemirror_mode": {
    "name": "ipython",
    "version": 3
   },
   "file_extension": ".py",
   "mimetype": "text/x-python",
   "name": "python",
   "nbconvert_exporter": "python",
   "pygments_lexer": "ipython3",
   "version": "3.8.0"
  }
 },
 "nbformat": 4,
 "nbformat_minor": 4
}
