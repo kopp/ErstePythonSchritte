{
 "cells": [
  {
   "cell_type": "markdown",
   "metadata": {},
   "source": [
    "# Objekte\n",
    "\n",
    "In Python arbeitet man mit _Objekten_.\n",
    "\n",
    "Ein Objekt in Python kann man sich wie ein Objekt in der normalen Welt vorstellen:\n",
    "Es hat Eigenschaften (Daten) und man kann etwas damit machen (Methoden)."
   ]
  },
  {
   "cell_type": "markdown",
   "metadata": {},
   "source": [
    "Ein paar sehr einfache Objekte sieht man hier:"
   ]
  },
  {
   "cell_type": "code",
   "execution_count": null,
   "metadata": {},
   "outputs": [],
   "source": [
    "ein_string = \"hallo\"\n",
    "eine_zahl = 23\n",
    "eine_andere_zahl = 3.1415\n",
    "ein_boolean = True"
   ]
  },
  {
   "cell_type": "markdown",
   "metadata": {},
   "source": [
    "So wie in der echten Welt die Objekte, die wir sehen, von bestimmten Typen sind (zu bestimmten Kategorien gehören), haben die Objekte in Python einen _Typen_.\n",
    "\n",
    "Um den herauszufinden, kann man `type(name_des_objekes)` schreiben:"
   ]
  },
  {
   "cell_type": "code",
   "execution_count": null,
   "metadata": {},
   "outputs": [],
   "source": [
    "type(ein_string)"
   ]
  },
  {
   "cell_type": "markdown",
   "metadata": {},
   "source": [
    "Interessanterweise kann man sehen, dass es offenbar verschiedene Zahlen gibt.\n",
    "Untersuche mal die Typen der verschiedenen oben definierten Objekte.\n",
    "\n",
    "Du wirst wahrscheinlich finden, dass die eine Zahl ein `int` (also ein Integer bzw. eine Ganzzahl (ohne Komma)) ist, die andere ein `float` (also eine Kommazahl).\n",
    "Warum es diese verschiedene Typen von Zahlen gibt, hat ihre Ursache darin, wie ein Computer Zahlen speichert und verarbeitet.\n",
    "Auf der CPU gibt es für die Verrechnung von `int`- und `float`-Datentypen zwei verschiedene Stücke Hardware.\n",
    "\n",
    "Der Typ `bool` kann nur zwei Werte annehmen: `True` (wahr) und `False` (falsch).\n",
    "Diesen Typen kennt man nicht aus dem Alltag/der Mathematik, aber in der Informatik ist er wichtig, weil man es dort oft mit Konstrukten wie _\"das Program macht das Folgende, wenn dieser bool wahr ist\"_ zu tun hat."
   ]
  },
  {
   "cell_type": "markdown",
   "metadata": {},
   "source": [
    "Mit diesen Objekten kann man jetzt verschiedene Dinge machen.\n",
    "Manches ist aus der Mathematik wohl bekannt, bspw. kann man Zahlen miteinander addieren:"
   ]
  },
  {
   "cell_type": "code",
   "execution_count": null,
   "metadata": {},
   "outputs": [],
   "source": [
    "eine_zahl + eine_andere_zahl"
   ]
  },
  {
   "cell_type": "markdown",
   "metadata": {},
   "source": [
    "Hier haben wir einen `int` und eine `float` addiert.\n",
    "Um zu sehen, von welchem Typ das Ergebnis ist, kann man auch hier mit `type()` arbeiten:"
   ]
  },
  {
   "cell_type": "code",
   "execution_count": null,
   "metadata": {},
   "outputs": [],
   "source": [
    "type(eine_zahl + eine_andere_zahl)"
   ]
  },
  {
   "cell_type": "markdown",
   "metadata": {},
   "source": [
    "Aber auch Strings kann man mit dem `+`-Operator verknüpfen zu einem neuen String:"
   ]
  },
  {
   "cell_type": "code",
   "execution_count": null,
   "metadata": {},
   "outputs": [],
   "source": [
    "ein_anderer_string = \" Du\"\n",
    "zusammengestzter_string = ein_string + ein_anderer_string\n",
    "zusammengestzter_string"
   ]
  },
  {
   "cell_type": "markdown",
   "metadata": {},
   "source": [
    "Mit den Objekten kann man aber noch mehr machen -- die Methoden.\n",
    "Auf diese kann man zugreifen, indem man den Namen des Objekts schreibt, dann ein `.` und dann den Namen der Methode.\n",
    "Wenn man diese Methoden nicht kennt, kann man (wie [hier](Jupyterlab.ipynb) beschrieben) einfach `objekt_name.` schreiben und _Tabulator_ drücken, um zu sehen, was es für Möglichkeiten gibt.\n",
    "\n",
    "Beispielsweise kann man bei dem String den ersten Buchstaben groß machen:"
   ]
  },
  {
   "cell_type": "code",
   "execution_count": null,
   "metadata": {},
   "outputs": [],
   "source": [
    "ein_string.capitalize()"
   ]
  },
  {
   "cell_type": "markdown",
   "metadata": {},
   "source": [
    "Eine der wichtigsten Funktionen bei Strings ist es, einen String zu erzeugen, der die Werte von anderen Objekte enthält.\n",
    "Dazu kann man die `format` Methode verwenden:"
   ]
  },
  {
   "cell_type": "code",
   "execution_count": null,
   "metadata": {},
   "outputs": [],
   "source": [
    "\"mein String ist {} und eine Zahl ist {}\".format(ein_string, eine_zahl)"
   ]
  },
  {
   "cell_type": "markdown",
   "metadata": {},
   "source": [
    "------------\n",
    "\n",
    "_Für die Wissbegierigen_\n",
    "\n",
    "Übrigens:\n",
    "Auch wenn man zwei Strings mit `+` verbindet, ruft man hier eine Methode auf.\n",
    "In Python können Objekte _Magische Methoden_ haben.\n",
    "Schreibt man eine Rechenoperation mit den Objekten, werden diese Magischen Methoden aufgerufen;\n",
    "für `+` ist das bspw. [`__add__`](https://docs.python.org/3/reference/datamodel.html#object.__add__):\n"
   ]
  },
  {
   "cell_type": "code",
   "execution_count": null,
   "metadata": {},
   "outputs": [],
   "source": [
    "\"Hallo \" + \"Du\""
   ]
  },
  {
   "cell_type": "code",
   "execution_count": null,
   "metadata": {},
   "outputs": [],
   "source": [
    "\"Hallo \".__add__(\"Du\")"
   ]
  },
  {
   "cell_type": "markdown",
   "metadata": {},
   "source": [
    "----------------"
   ]
  }
 ],
 "metadata": {
  "kernelspec": {
   "display_name": "Python 3",
   "language": "python",
   "name": "python3"
  },
  "language_info": {
   "codemirror_mode": {
    "name": "ipython",
    "version": 3
   },
   "file_extension": ".py",
   "mimetype": "text/x-python",
   "name": "python",
   "nbconvert_exporter": "python",
   "pygments_lexer": "ipython3",
   "version": "3.8.0"
  }
 },
 "nbformat": 4,
 "nbformat_minor": 4
}
